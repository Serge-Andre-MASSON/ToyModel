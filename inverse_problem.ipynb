{
 "cells": [
  {
   "cell_type": "markdown",
   "metadata": {},
   "source": [
    "<h1>Inverse problem</h1>"
   ]
  },
  {
   "cell_type": "markdown",
   "metadata": {},
   "source": [
    "\n",
    "I expose here how to solve the inverse probleme of reconstructiong $\\alpha,\\ \\beta,\\ a$ and $b$ from of finite number of the $u$ solution's values.\n",
    "The first step is to define a grid to work with and to extract a sample of it, which will be the base for the observation set (see grid.ipynb for more details)."
   ]
  },
  {
   "cell_type": "code",
   "execution_count": 10,
   "metadata": {},
   "outputs": [],
   "source": [
    "from direct_problem import Grid\n",
    "\n",
    "grid = Grid(\n",
    "    x_min=0,\n",
    "    x_max=5,\n",
    "    delta_x=0.2,\n",
    "    t_max=1,\n",
    "    delta_t=0.01\n",
    ")\n",
    "\n",
    "sample_size=200\n",
    "sample = grid.random_sample(size=sample_size)\n"
   ]
  },
  {
   "cell_type": "markdown",
   "metadata": {},
   "source": [
    "The next step is to generate a set of random parameters. Each subset $\\alpha_i,\\ \\beta_i,\\ a_i$ and $b_i$ will be used to define and solve a direct problem. \n",
    "\n",
    "Each solution, along with those parameters will be used to train a neural network whose objectif is to map solution's values to the parameters."
   ]
  },
  {
   "cell_type": "code",
   "execution_count": 11,
   "metadata": {},
   "outputs": [
    {
     "name": "stdout",
     "output_type": "stream",
     "text": [
      "      alpha      beta         a         b\n",
      "0  0.369886  0.949827  2.687907  1.964927\n",
      "1  0.701621  0.127334  0.907685  2.821581\n",
      "2  0.115038  0.832294  1.988475  0.775089\n",
      "3  0.327756  0.765553  0.491848  2.910181\n",
      "4  0.127835  0.555397  2.780775  1.961650\n"
     ]
    }
   ],
   "source": [
    "from data import RandomParameters\n",
    "\n",
    "parameters_size = 150 # This will also be the numbers of direct \n",
    "                      # problems to solve in order to generate the data.\n",
    "\n",
    "parameters = RandomParameters(parameters_size=parameters_size)\n",
    "\n",
    "print(parameters)"
   ]
  },
  {
   "cell_type": "code",
   "execution_count": 12,
   "metadata": {},
   "outputs": [],
   "source": [
    "import numpy as np\n",
    "\n",
    "from data import DataGenerator\n",
    "\n",
    "\n",
    "f = lambda x: np.maximum(2-x, 0)\n",
    "\n",
    "data_generator = DataGenerator(grid, parameters, f)\n",
    "\n",
    "# We build the DataLoader that will be used by pytorch\n",
    "\n",
    "batch_size = sample_size // 10\n",
    "train_dl, test_dl = data_generator.dataloader(batch_size=batch_size)"
   ]
  },
  {
   "cell_type": "markdown",
   "metadata": {},
   "source": [
    "We are now ready to train the model."
   ]
  },
  {
   "cell_type": "code",
   "execution_count": 13,
   "metadata": {},
   "outputs": [
    {
     "name": "stdout",
     "output_type": "stream",
     "text": [
      "Average validation loss before fit: 1.9164425134658813\n",
      "Average validation loss: 0.28024375438690186\n"
     ]
    }
   ],
   "source": [
    "from inverse_problem import get_optimized_model, fit\n",
    "\n",
    "model, opt = get_optimized_model(sample_size, learning_rate=0.005)\n",
    "\n",
    "epochs = 50\n",
    "\n",
    "loss_array = fit(model, train_dl, test_dl, epochs, opt) # Also return the average validation loss at \n",
    "                                                        # each step of the training\n",
    "# TODO: Re start from here and write somekind of a dashboard to visualize the whole process"
   ]
  },
  {
   "cell_type": "markdown",
   "metadata": {},
   "source": []
  }
 ],
 "metadata": {
  "interpreter": {
   "hash": "50deff0b9a1e48c0cff6a2a1ce3e7289b533ec0bbb0812eb9fae7a2ea2f07857"
  },
  "kernelspec": {
   "display_name": "Python 3.9.7 64-bit ('.toy_model': venv)",
   "language": "python",
   "name": "python3"
  },
  "language_info": {
   "codemirror_mode": {
    "name": "ipython",
    "version": 3
   },
   "file_extension": ".py",
   "mimetype": "text/x-python",
   "name": "python",
   "nbconvert_exporter": "python",
   "pygments_lexer": "ipython3",
   "version": "3.9.7"
  },
  "orig_nbformat": 4
 },
 "nbformat": 4,
 "nbformat_minor": 2
}
