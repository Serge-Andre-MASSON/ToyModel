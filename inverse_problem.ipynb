{
 "cells": [
  {
   "cell_type": "markdown",
   "metadata": {},
   "source": [
    "<h1>Inverse problem</h1>"
   ]
  },
  {
   "cell_type": "markdown",
   "metadata": {},
   "source": [
    "\n",
    "I expose here how to solve the inverse probleme of reconstructiong $\\alpha,\\ \\beta,\\ a$ and $b$ from of finite number of the $u$ solution's values.\n",
    "The first step is to define a grid to work with and to extract a sample of it, which will be the base for the observation set."
   ]
  },
  {
   "cell_type": "code",
   "execution_count": 1,
   "metadata": {},
   "outputs": [
    {
     "data": {
      "image/png": "[encoded data removed]",
      "text/plain": [
       "<Figure size 432x288 with 1 Axes>"
      ]
     },
     "metadata": {
      "needs_background": "light"
     },
     "output_type": "display_data"
    }
   ],
   "source": [
    "from direct_problem import Grid\n",
    "\n",
    "grid = Grid(\n",
    "    x_min=0,\n",
    "    x_max=5,\n",
    "    delta_x=0.2,\n",
    "    t_max=1,\n",
    "    delta_t=0.01\n",
    ")\n",
    "\n",
    "\n",
    "from data import Coordinates\n",
    "\n",
    "sample_size=200\n",
    "coordinates = Coordinates(grid)\n",
    "sample = coordinates.get_random_coordinates(sample_size=sample_size)\n",
    "\n",
    "def plot_sample():\n",
    "    pass\n",
    "\n",
    "\n",
    "import matplotlib.pyplot as plt\n",
    "\n",
    "def show(sample):\n",
    "    plt.scatter(*sample, c='r')\n",
    "    plt.grid()\n",
    "    plt.xlabel(\"x\")\n",
    "    plt.ylabel(\"t\")\n",
    "\n",
    "show(sample)"
   ]
  },
  {
   "cell_type": "markdown",
   "metadata": {},
   "source": [
    "The next step is to generate a set of random parameters. Each subset $\\alpha_i,\\ \\beta_i,\\ a_i$ and $b_i$ will be used to defined and solve a direct problem. \n",
    "\n",
    "Each solution, along with those parameters will be used to train a neural network whose objectif is to map solution's values to the parameters."
   ]
  },
  {
   "cell_type": "code",
   "execution_count": 2,
   "metadata": {},
   "outputs": [
    {
     "name": "stdout",
     "output_type": "stream",
     "text": [
      "      alpha      beta         a         b\n",
      "0  0.438765  0.102908  2.106078  0.215279\n",
      "1  0.051405  0.844185  1.212911  0.449405\n",
      "2  0.193712  0.984241  0.459932  1.127769\n",
      "3  0.467384  0.531809  2.646033  1.700094\n",
      "4  0.965460  0.199044  2.563128  1.674375\n"
     ]
    }
   ],
   "source": [
    "from data import RandomParameters\n",
    "\n",
    "parameters_size = 150 # This will also be the numbers of direct \n",
    "                      # problems to solve in order to generate the data.\n",
    "\n",
    "parameters = RandomParameters(parameters_size=parameters_size)\n",
    "\n",
    "print(parameters)"
   ]
  },
  {
   "cell_type": "code",
   "execution_count": 3,
   "metadata": {},
   "outputs": [],
   "source": [
    "import numpy as np\n",
    "\n",
    "from data import DataGenerator\n",
    "\n",
    "\n",
    "f = lambda x: np.maximum(2-x, 0)\n",
    "\n",
    "data_generator = DataGenerator(coordinates, parameters, f)\n",
    "\n",
    "# We build the DataLoader that will be used by pytorch\n",
    "\n",
    "batch_size = sample_size // 10\n",
    "train_dl, test_dl = data_generator.dataloader(batch_size=batch_size)"
   ]
  },
  {
   "cell_type": "markdown",
   "metadata": {},
   "source": [
    "We are now ready to train the model."
   ]
  },
  {
   "cell_type": "code",
   "execution_count": 14,
   "metadata": {},
   "outputs": [
    {
     "name": "stdout",
     "output_type": "stream",
     "text": [
      "Average validation loss before fit: 1.4284045696258545\n",
      "Average validation loss: 0.3348337709903717\n"
     ]
    },
    {
     "data": {
      "text/plain": [
       "[<matplotlib.lines.Line2D at 0x7fcf0a9377c0>]"
      ]
     },
     "execution_count": 14,
     "metadata": {},
     "output_type": "execute_result"
    },
    {
     "data": {
      "image/png": "[encoded data removed]",
      "text/plain": [
       "<Figure size 432x288 with 1 Axes>"
      ]
     },
     "metadata": {
      "needs_background": "light"
     },
     "output_type": "display_data"
    }
   ],
   "source": [
    "from inverse_problem import get_optimized_model, fit\n",
    "\n",
    "model, opt = get_optimized_model(sample_size, learning_rate=0.005)\n",
    "\n",
    "epochs = 50\n",
    "\n",
    "loss_array = fit(model, train_dl, test_dl, epochs, opt) # Also return the average validation loss at \n",
    "                                                        # each step of the training\n",
    "\n",
    "plt.plot(loss_array)"
   ]
  }
 ],
 "metadata": {
  "interpreter": {
   "hash": "50deff0b9a1e48c0cff6a2a1ce3e7289b533ec0bbb0812eb9fae7a2ea2f07857"
  },
  "kernelspec": {
   "display_name": "Python 3.9.7 64-bit ('.toy_model': venv)",
   "language": "python",
   "name": "python3"
  },
  "language_info": {
   "codemirror_mode": {
    "name": "ipython",
    "version": 3
   },
   "file_extension": ".py",
   "mimetype": "text/x-python",
   "name": "python",
   "nbconvert_exporter": "python",
   "pygments_lexer": "ipython3",
   "version": "3.9.7"
  },
  "orig_nbformat": 4
 },
 "nbformat": 4,
 "nbformat_minor": 2
}
