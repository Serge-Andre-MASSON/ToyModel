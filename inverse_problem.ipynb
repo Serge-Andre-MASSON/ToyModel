{
 "cells": [
  {
   "cell_type": "markdown",
   "metadata": {},
   "source": [
    "<h1>Inverse problem</h1>"
   ]
  },
  {
   "cell_type": "markdown",
   "metadata": {},
   "source": [
    "\n",
    "I expose here how to solve the inverse probleme of reconstructiong $\\alpha,\\ \\beta,\\ a$ and $b$ from of finite number of the $u$ solution's values.\n",
    "The first step is to define a grid to work with and to extract a sample of it, which will be the base for the observation set (see grid.ipynb for more details)."
   ]
  },
  {
   "cell_type": "code",
   "execution_count": 1,
   "metadata": {},
   "outputs": [],
   "source": [
    "from direct_problem import Grid\n",
    "\n",
    "grid = Grid(\n",
    "    x_min=0,\n",
    "    x_max=5,\n",
    "    delta_x=0.2,\n",
    "    t_max=1,\n",
    "    delta_t=0.01\n",
    ")\n",
    "\n",
    "sample_size=200\n",
    "sample = grid.random_sample(size=sample_size)\n"
   ]
  },
  {
   "cell_type": "markdown",
   "metadata": {},
   "source": [
    "The next step is to generate a set of random parameters. Each set $\\{\\alpha_i,\\ \\beta_i,\\ a_i,\\ b_i\\}$ will be used to define and solve a direct problem. \n",
    "\n",
    "Each set of solution's values with those parameters will be used to train a neural network whose objectif is to map solution's values to the parameters."
   ]
  },
  {
   "cell_type": "code",
   "execution_count": 2,
   "metadata": {},
   "outputs": [
    {
     "name": "stdout",
     "output_type": "stream",
     "text": [
      "      alpha      beta         a         b\n",
      "0  0.664772  0.418035  1.158627  2.985221\n",
      "1  0.550084  0.309647  1.101659  0.686741\n",
      "2  0.846398  0.439760  1.781006  1.016700\n",
      "3  0.404113  0.981735  2.496863  0.581807\n",
      "4  0.951599  0.868926  1.512213  2.494313\n"
     ]
    }
   ],
   "source": [
    "from data import RandomParameters\n",
    "\n",
    "number_of_problems = 150 # This will also be the numbers of direct \n",
    "                      # problems to solve in order to generate the data.\n",
    "\n",
    "parameters = RandomParameters(parameters_size=number_of_problems)\n",
    "\n",
    "print(parameters)"
   ]
  },
  {
   "cell_type": "code",
   "execution_count": 3,
   "metadata": {},
   "outputs": [],
   "source": [
    "import numpy as np\n",
    "\n",
    "from data import DataGenerator\n",
    "\n",
    "\n",
    "f = lambda x: np.maximum(2-x, 0)\n",
    "\n",
    "data_generator = DataGenerator(grid, parameters, f)\n",
    "\n",
    "# We build the DataLoader that will be used by pytorch\n",
    "\n",
    "batch_size = sample_size // 10 # Arbitrary choice\n",
    "train_dl, test_dl = data_generator.dataloader(batch_size=batch_size)"
   ]
  },
  {
   "cell_type": "markdown",
   "metadata": {},
   "source": [
    "We are now ready to train the model."
   ]
  },
  {
   "cell_type": "code",
   "execution_count": 4,
   "metadata": {},
   "outputs": [
    {
     "name": "stdout",
     "output_type": "stream",
     "text": [
      "Average validation loss before training: 1.983519196510315\n",
      "Average validation loss after training: 0.308474063873291\n"
     ]
    }
   ],
   "source": [
    "from inverse_problem import get_optimized_model, fit\n",
    "\n",
    "model, opt = get_optimized_model(sample_size, learning_rate=0.005)\n",
    "\n",
    "epochs = 50\n",
    "\n",
    "loss_array = fit(model, train_dl, test_dl, epochs, opt) # Also return the average validation loss at \n",
    "                                                        # each step of the training\n",
    "# TODO: Re start from here and write somekind of a dashboard to visualize the whole process"
   ]
  },
  {
   "cell_type": "code",
   "execution_count": 6,
   "metadata": {},
   "outputs": [
    {
     "data": {
      "text/plain": [
       "[<matplotlib.lines.Line2D at 0x7f377029e1f0>]"
      ]
     },
     "execution_count": 6,
     "metadata": {},
     "output_type": "execute_result"
    },
    {
     "data": {
      "image/png": "[encoded data removed]",
      "text/plain": [
       "<Figure size 432x288 with 1 Axes>"
      ]
     },
     "metadata": {
      "needs_background": "light"
     },
     "output_type": "display_data"
    }
   ],
   "source": [
    "import matplotlib.pyplot as plt\n",
    "\n",
    "# Visualizing the loss evolution during training\n",
    "plt.plot(loss_array)"
   ]
  }
 ],
 "metadata": {
  "interpreter": {
   "hash": "50deff0b9a1e48c0cff6a2a1ce3e7289b533ec0bbb0812eb9fae7a2ea2f07857"
  },
  "kernelspec": {
   "display_name": "Python 3.9.7 64-bit ('.toy_model': venv)",
   "language": "python",
   "name": "python3"
  },
  "language_info": {
   "codemirror_mode": {
    "name": "ipython",
    "version": 3
   },
   "file_extension": ".py",
   "mimetype": "text/x-python",
   "name": "python",
   "nbconvert_exporter": "python",
   "pygments_lexer": "ipython3",
   "version": "3.9.7"
  },
  "orig_nbformat": 4
 },
 "nbformat": 4,
 "nbformat_minor": 2
}
